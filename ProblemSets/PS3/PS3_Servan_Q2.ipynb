{
 "cells": [
  {
   "cell_type": "code",
   "execution_count": 99,
   "metadata": {},
   "outputs": [],
   "source": [
    "# Import packages \n",
    "import numpy as np\n",
    "import numpy.linalg as lin\n",
    "import scipy.stats as sts\n",
    "import scipy.integrate as intgr\n",
    "import scipy.optimize as opt\n",
    "import matplotlib\n",
    "import matplotlib.pyplot as plt\n",
    "import pandas as pd\n",
    "from mpl_toolkits.mplot3d import Axes3D\n",
    "# This next command is specifically for Jupyter Notebook\n",
    "%matplotlib notebook\n",
    "\n",
    "import requests\n",
    "from IPython.display import Image"
   ]
  },
  {
   "cell_type": "code",
   "execution_count": 100,
   "metadata": {},
   "outputs": [],
   "source": [
    "#Loading the data and variable assumptions\n",
    "data = np.loadtxt('MacroSeries.txt', delimiter = ',')\n",
    "\n",
    "#We rename the each of the columns of the data with variables corresponding to the model\n",
    "#(c:consumption, k:capital, w:wage, r=interest rate)\n",
    "c = data[:,0]\n",
    "k = data[:,1]\n",
    "w = data[:,2]\n",
    "r = data[:,3]\n",
    "\n",
    "#Parameter assumption\n",
    "beta = 0.99"
   ]
  },
  {
   "cell_type": "code",
   "execution_count": 101,
   "metadata": {},
   "outputs": [],
   "source": [
    "#We back the value for \"z\" using eqn (4). This is the same that was done in PS2\n",
    "def z_back(r, k, alpha):\n",
    "\n",
    "    z = np.log(r/(((k)**(alpha-1))*(alpha)))\n",
    "    \n",
    "    return z"
   ]
  },
  {
   "cell_type": "code",
   "execution_count": 102,
   "metadata": {},
   "outputs": [],
   "source": [
    "#We define the moments of the data (the expectations become average over the arguments)\n",
    "def data_moments(params, args):\n",
    "\n",
    "    alpha, rho, mu = params\n",
    "    r, k, c, w = args\n",
    "        \n",
    "    z = z_back(r, k, alpha)\n",
    "    \n",
    "    #We take the second observation onwards to create the variable en t+1 (_f denotes foward)\n",
    "    z_f = z[1:]  \n",
    "    k_f = k[1:]  \n",
    "    c_f = c[1:]  \n",
    "    \n",
    "    # We create the variables z, r, k, c, w adjusted (leaving out the last observation because there is no t+1 for)\n",
    "    #that observation) so que can make the appropiate operations with z, k and c forward\n",
    "    z_adj = z[:-1]\n",
    "    r_adj = r[:-1]\n",
    "    k_adj = k[:-1] \n",
    "    c_adj = c[:-1]\n",
    "    w_adj = w[:-1]\n",
    "        \n",
    "    moment_1 = z_f - rho*z_adj - (1 - rho)*mu\n",
    "    moment_2 = (z_f - rho*z_adj - (1 - rho)*mu)*z_adj\n",
    "    moment_3 = (beta*alpha*np.exp(z_f)*k_f**(alpha - 1)*c_adj/c_f) - 1\n",
    "    moment_4 = ((beta*alpha*np.exp(z_f)*k_f**(alpha - 1)*c_adj/c_f) - 1)*w_adj\n",
    "        \n",
    "    mom_1_data = np.mean(moment_1)\n",
    "    mom_2_data = np.mean(moment_2)\n",
    "    mom_3_data = np.mean(moment_3)\n",
    "    mom_4_data = np.mean(moment_4)\n",
    "    \n",
    "    return mom_1_data, mom_2_data, mom_3_data, mom_4_data"
   ]
  },
  {
   "cell_type": "code",
   "execution_count": 103,
   "metadata": {},
   "outputs": [],
   "source": [
    "#We define the moments of the model. In this case is easy beacause all of them are zero (the expecations are equal to zero\n",
    "#acording to the model presented). Since we have four moments, we create an array with four entries equal to zero.\n",
    "\n",
    "moms_model = np.array([0, 0, 0, 0])"
   ]
  },
  {
   "cell_type": "code",
   "execution_count": 104,
   "metadata": {},
   "outputs": [],
   "source": [
    "#We define the vector of error (data_moments - model_moments)\n",
    "def err_vec(params, args, simple):\n",
    "    \n",
    "    mom_1_data, mom_2_data, mom_3_data, mom_4_data = data_moments(params, args)\n",
    "    moms_data = np.array([mom_1_data, mom_2_data, mom_3_data, mom_4_data])\n",
    "    moms_model = np.array([0, 0, 0, 0])\n",
    "        \n",
    "    if simple:\n",
    "        err_vec = moms_model - moms_data\n",
    "    else:\n",
    "        err_vec = (moms_model - moms_data)/moms_data\n",
    "    \n",
    "    return err_vec"
   ]
  },
  {
   "cell_type": "code",
   "execution_count": 105,
   "metadata": {},
   "outputs": [],
   "source": [
    "#We define the criterion that will be use in the minimization problem\n",
    "def criterion(params, *args):\n",
    "    \n",
    "    alpha, rho, mu = params\n",
    "    r, k, c, w, W = args \n",
    "    \n",
    "    err = err_vec(params, args[:-1], simple=True)\n",
    "    crit_val = err.T @ W @ err\n",
    "    \n",
    "    return crit_val"
   ]
  },
  {
   "cell_type": "code",
   "execution_count": 106,
   "metadata": {},
   "outputs": [],
   "source": [
    "# We guess some initial values for the parameters (I am taking the values that I got from the MLE estimation of PS2)\n",
    "alpha_init = 0.7018970334618823\n",
    "rho_init = 0.4800169691930428\n",
    "mu_init = 5.077378123134153\n",
    "params_init = np.array([alpha_init, rho_init, mu_init])\n",
    "\n",
    "W_hat = np.eye(4)\n",
    "gmm_args = (r, k, c, w, W_hat)\n",
    "\n",
    "# GMM estimation \n",
    "results = opt.minimize(criterion, params_init, args = (gmm_args), tol = 1e-14,\n",
    "                           bounds=((1e-8, 1-1e-8), (-1+1e-8, 1-1e-8), (1e-8, None)), method = 'L-BFGS-B')\n",
    "    \n",
    "alpha_GMM, rho_GMM, mu_GMM = results.x"
   ]
  },
  {
   "cell_type": "code",
   "execution_count": 107,
   "metadata": {},
   "outputs": [
    {
     "name": "stdout",
     "output_type": "stream",
     "text": [
      "alpha_GMM= 0.7019630309421323\n",
      "rho_GMM= 0.4800169768412977\n",
      "mu_GMM= 5.077381951948253\n",
      "Criterion Function = 6.514775672558655e-15\n"
     ]
    }
   ],
   "source": [
    "#We print the results for the estimations and the value of the minimized criteria function\n",
    "print('alpha_GMM=', alpha_GMM)\n",
    "print('rho_GMM=', rho_GMM)\n",
    "print('mu_GMM=', mu_GMM)\n",
    "print('Criterion Function =', results.fun)"
   ]
  }
 ],
 "metadata": {
  "kernelspec": {
   "display_name": "Python 3",
   "language": "python",
   "name": "python3"
  },
  "language_info": {
   "codemirror_mode": {
    "name": "ipython",
    "version": 3
   },
   "file_extension": ".py",
   "mimetype": "text/x-python",
   "name": "python",
   "nbconvert_exporter": "python",
   "pygments_lexer": "ipython3",
   "version": "3.7.1"
  }
 },
 "nbformat": 4,
 "nbformat_minor": 2
}
