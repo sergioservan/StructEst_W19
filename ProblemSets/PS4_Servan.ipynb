{
 "cells": [
  {
   "cell_type": "code",
   "execution_count": 105,
   "metadata": {},
   "outputs": [],
   "source": [
    "# Import packages and load the data\n",
    "import numpy as np\n",
    "import numpy.random as rnd\n",
    "import numpy.linalg as lin\n",
    "import scipy.stats as sts\n",
    "import scipy.integrate as intgr\n",
    "import scipy.optimize as opt\n",
    "import matplotlib\n",
    "import matplotlib.pyplot as plt\n",
    "from mpl_toolkits.mplot3d import Axes3D\n",
    "from matplotlib import cm\n",
    "cmap1 = matplotlib.cm.get_cmap('summer')\n",
    "# This next command is specifically for Jupyter Notebook\n",
    "%matplotlib notebook"
   ]
  },
  {
   "cell_type": "code",
   "execution_count": 106,
   "metadata": {},
   "outputs": [],
   "source": [
    "# Load the data as a NumPy array\n",
    "data = np.loadtxt('NewMacroSeries.txt', delimiter = ',')\n",
    "#We rename the each of the columns of the data with variables corresponding to the model\n",
    "#(c:consumption, k:capital, w:wage, r=interest rate)\n",
    "c_data = data[:,0]\n",
    "k_data = data[:,1]\n",
    "w_data = data[:,2]\n",
    "r_data = data[:,3]\n",
    "y_data = data[:,4]\n",
    "\n",
    "#Parameter assumptions\n",
    "beta = 0.99\n",
    "k_1 = k_data.mean()\n",
    "\n",
    "#Simulation assumptions (for the uniform matrix)\n",
    "S = 1000 \n",
    "T = 100"
   ]
  },
  {
   "cell_type": "markdown",
   "metadata": {},
   "source": [
    "Part a)"
   ]
  },
  {
   "cell_type": "code",
   "execution_count": 107,
   "metadata": {},
   "outputs": [],
   "source": [
    "#Matrix of S = 1; 000 simulations (columns) of T = 100 (rows) from a uniform\n",
    "simulations = np.random.uniform(0,1,(T,S))"
   ]
  },
  {
   "cell_type": "code",
   "execution_count": 108,
   "metadata": {},
   "outputs": [],
   "source": [
    "# We need to simulate the variables according with the equations given in the pdf\n",
    "\n",
    "def variables_simulated(alpha, beta, rho, mu, sigma, simulations):\n",
    "    epsilon = sts.norm.ppf(simulations,0,sigma)\n",
    "    z = np.zeros((T,S))  \n",
    "    z_t_1 = mu\n",
    "    for i in range(100):   \n",
    "        z_t = rho*z_t_1 + (1-rho)*mu + epsilon[i,:]\n",
    "        z[i,:] = z_t\n",
    "        z_t_1 = z_t\n",
    "    \n",
    "    k = np.zeros((T,S))\n",
    "    k_lag = np.zeros((T,S))\n",
    "    k_t_1 = k_1\n",
    "    for j in range(100):\n",
    "        k_t = alpha*beta*np.exp(z[j,:])*k_t_1**alpha\n",
    "        k_lag[j,:] = k_t_1\n",
    "        k[j,:] = k_t\n",
    "        k_t_1 = k_t\n",
    "\n",
    "    w = (1-alpha)*np.exp(z)*k_lag**alpha\n",
    "    r = alpha*np.exp(z)*k_lag**(alpha-1)\n",
    "    c = w + r*k_lag-k\n",
    "    y = np.exp(z)*k_lag**alpha\n",
    "    \n",
    "    return c,k_lag,k,w,r,y"
   ]
  },
  {
   "cell_type": "code",
   "execution_count": 109,
   "metadata": {},
   "outputs": [],
   "source": [
    "# We compute de moment from the data \n",
    "\n",
    "moment_data1 = c_data.mean()\n",
    "moment_data2 = k_data.mean()\n",
    "moment_data3 = (c_data/y_data).mean()\n",
    "moment_data4 = y_data.var()\n",
    "moment_data5= np.corrcoef(c_data[0:99],c_data[1:100])[0,1]\n",
    "moment_data6= np.corrcoef(c_data, k_data)[0,1]\n",
    "moment_data=np.array([moment_data1, moment_data2, moment_data3, moment_data4, moment_data5, moment_data6])"
   ]
  },
  {
   "cell_type": "code",
   "execution_count": 110,
   "metadata": {},
   "outputs": [],
   "source": [
    "#Taking our simulated data we compute the simulated moments given in the pdf\n",
    "def moments_simulated(alpha, beta, rho, mu, sigma, simulations):\n",
    "    c,k_lag,k,w,r,y = variables_simulated(alpha, beta, rho, mu, sigma, simulations)\n",
    "    moment_simul1 = np.mean(c)\n",
    "    moment_simul2 = np.mean(k)\n",
    "    moment_simul3 = np.mean(c/y)\n",
    "    moment_simul4 = np.mean(np.var(y,axis=0)) \n",
    "    correl_c = np.zeros((1,S))\n",
    "    correl_ck = np.zeros((1,S))\n",
    "    \n",
    "    for i in range(1000):   \n",
    "        correl_c[0,i] = np.corrcoef(c[0:99,i],c[1:100,i])[0,1]\n",
    "        correl_ck[0,i] = np.corrcoef(c[:,i],k_lag[:,i])[0,1]\n",
    "    \n",
    "    moment_simul5 = correl_c.mean()\n",
    "    moment_simul6 = correl_ck.mean()\n",
    "    moment_simul = np.array([moment_simul1,moment_simul2,moment_simul3,moment_simul4,moment_simul5,moment_simul6])\n",
    "    return moment_simul"
   ]
  },
  {
   "cell_type": "code",
   "execution_count": 111,
   "metadata": {},
   "outputs": [],
   "source": [
    "#We define the error error and criterion function\n",
    "\n",
    "def err_vec(alpha, beta, rho, mu, sigma, simulations):\n",
    "    moment_simul = moments_simulated(alpha, beta, rho, mu, sigma, simulations)\n",
    "    return (moment_simul - moment_data)/moment_data\n",
    "\n",
    "def criterion_SMM(params, *args):\n",
    "    alpha, rho, mu, sigma = params\n",
    "    beta, simulations = args\n",
    "    err = err_vec(alpha, beta, rho, mu, sigma, simulations)\n",
    "    W = np.eye(6)\n",
    "    return err @ W @ err.T"
   ]
  },
  {
   "cell_type": "code",
   "execution_count": 112,
   "metadata": {},
   "outputs": [
    {
     "name": "stdout",
     "output_type": "stream",
     "text": [
      "alpha SMM =  0.42103423036100984\n",
      "rho SMM =  0.9174627639046471\n",
      "mu SMM =  9.92760014039361\n",
      "sigma SMM =  0.09004838136874012\n",
      "Error vec = [ 7.44100555e-04 -7.38807276e-04 -1.75263276e-03 -1.98616315e-06\n",
      "  3.30035526e-04 -3.10640056e-04]\n",
      "Criterion function value = 4.376668049896011e-06\n"
     ]
    }
   ],
   "source": [
    "# We guess some initial values for the parameters (I am taking the values that I got from the MLE estimation of PS2)\n",
    "alpha_init=0.7018970334618823\n",
    "rho_init=0.4800169691930428\n",
    "mu_init=5.077378123134153\n",
    "sigma_init=0.2\n",
    "\n",
    "params_init = np.array([alpha_init, rho_init, mu_init, sigma_init])\n",
    "bounds = ((0.01,0.99),(-0.99,0.99),(5,14),(0.01,1.1))\n",
    "smm_args = (beta,simulations)\n",
    "\n",
    "#Minimization problem for the SMM estimation\n",
    "result = opt.minimize(criterion_SMM, params_init, args = (smm_args), method = 'L-BFGS-B', bounds = bounds)\n",
    "alpha_smm, rho_smm, mu_smm, sigma_smm = result.x\n",
    "\n",
    "print('alpha SMM = ', alpha_smm)\n",
    "print('rho SMM = ', rho_smm)\n",
    "print('mu SMM = ', mu_smm)\n",
    "print('sigma SMM = ', sigma_smm)\n",
    "\n",
    "print('Error vec =', err_vec(alpha_smm, 0.99, rho_smm, mu_smm, sigma_smm, simulations))\n",
    "print(\"Criterion function value =\", criterion_SMM(result.x, 0.99, simulations))"
   ]
  },
  {
   "cell_type": "code",
   "execution_count": 113,
   "metadata": {},
   "outputs": [],
   "source": [
    "#We compute the Jacobian matrix (needed for the estimation of the standard errors)\n",
    "\n",
    "def Jac_err2(data_vals, unif_vals, alpha, rho, mu, sigma, simple=False):\n",
    "\n",
    "    Jac_err = np.zeros((6, 4))\n",
    "    h_alpha = 1e-4 * alpha\n",
    "    h_rho = 1e-4 * rho\n",
    "    h_mu = 1e-4 * mu\n",
    "    h_sigma = 1e-4 * sigma\n",
    "    Jac_err[:, 0] = \\\n",
    "        ((err_vec(alpha + h_alpha, 0.99, rho, mu, sigma, simulations) -\n",
    "          err_vec(alpha - h_alpha, 0.99, rho, mu, sigma, simulations)) / (2 * h_alpha)).flatten()\n",
    "    Jac_err[:, 1] = \\\n",
    "        ((err_vec(alpha, 0.99, rho + h_rho, mu, sigma, simulations) -\n",
    "          err_vec(alpha, 0.99, rho - h_rho, mu, sigma, simulations)) / (2 * h_rho)).flatten()\n",
    "    Jac_err[:, 2] = \\\n",
    "        ((err_vec(alpha, 0.99, rho, mu + h_mu, sigma, simulations) -\n",
    "          err_vec(alpha, 0.99, rho, mu - h_mu, sigma, simulations)) / (2 * h_mu)).flatten()\n",
    "    Jac_err[:, 3] = \\\n",
    "        ((err_vec(alpha, 0.99, rho, mu, sigma + h_sigma, simulations) -\n",
    "          err_vec(alpha, 0.99, rho, mu, sigma - h_sigma, simulations)) / (2 * h_sigma)).flatten()\n",
    "    \n",
    "    return Jac_err"
   ]
  },
  {
   "cell_type": "code",
   "execution_count": 114,
   "metadata": {},
   "outputs": [
    {
     "name": "stdout",
     "output_type": "stream",
     "text": [
      "[[ 2.70593112e+01  8.39184781e-01  1.71643424e+00  1.54452317e+00]\n",
      " [ 3.10889132e+01  8.37941273e-01  1.71389082e+00  1.54223448e+00]\n",
      " [-1.69462513e+00  0.00000000e+00  0.00000000e+00  0.00000000e+00]\n",
      " [ 6.13259563e+01  1.19087518e+01  3.45979140e+00  2.71079197e+01]\n",
      " [ 1.41334352e-01  4.23812633e-01  7.97041479e-04 -8.41316085e-02]\n",
      " [ 2.42068188e-01  4.29312671e-01  6.29637902e-03 -8.10755398e-02]]\n",
      "[[1. 0. 0. 0. 0. 0.]\n",
      " [0. 1. 0. 0. 0. 0.]\n",
      " [0. 0. 1. 0. 0. 0.]\n",
      " [0. 0. 0. 1. 0. 0.]\n",
      " [0. 0. 0. 0. 1. 0.]\n",
      " [0. 0. 0. 0. 0. 1.]]\n",
      "[[ 8.95633616e-05 -2.74077236e-05 -1.50622633e-03  1.66231471e-06]\n",
      " [-2.74077236e-05  2.35763969e-03  2.05581471e-04 -9.99680539e-04]\n",
      " [-1.50622633e-03  2.05581471e-04  2.55769400e-02  5.14002059e-05]\n",
      " [ 1.66231471e-06 -9.99680539e-04  5.14002059e-05  4.30263418e-04]]\n",
      "Std. err. alpha= 0.009463792137082695\n",
      "Std. err. rho= 0.0485555320111543\n",
      "Std. err. mu= 0.15992792141663875\n",
      "Std. err. sigma= 0.020742791956517733\n"
     ]
    }
   ],
   "source": [
    "#Standard errors\n",
    "SS = simulations.shape[1]\n",
    "d_err2 = Jac_err2(data, simulations, alpha_smm, rho_smm, mu_smm, sigma_smm, False)\n",
    "print(d_err2)\n",
    "W = np.eye(6)\n",
    "print(W)\n",
    "SigHat2 = (1 / SS) * lin.inv(d_err2.T @ W @ d_err2)\n",
    "print(SigHat2)\n",
    "print('Std. err. alpha=', np.sqrt(SigHat2[0, 0]))\n",
    "print('Std. err. rho=', np.sqrt(SigHat2[1, 1]))\n",
    "print('Std. err. mu=', np.sqrt(SigHat2[2, 2]))\n",
    "print('Std. err. sigma=', np.sqrt(SigHat2[3, 3]))"
   ]
  },
  {
   "cell_type": "markdown",
   "metadata": {},
   "source": [
    "Part b:"
   ]
  },
  {
   "cell_type": "code",
   "execution_count": 115,
   "metadata": {},
   "outputs": [],
   "source": [
    "def get_Err_mat(unif_vals, alpha, beta, rho, mu, sigma, simple=False):\n",
    "  \n",
    "    R = 6\n",
    "    SS = simulations.shape[1]\n",
    "    Err_mat = np.zeros((R, SS))\n",
    "    mm_simulated1, mm_simulated2, mm_simulated3, mm_simulated4, mm_simulated5, mm_simulated6 = moments_simulated(alpha, beta, rho, mu, sigma, simulations)\n",
    "    if simple:\n",
    "        Err_mat[0, :] = mm_simulated1 - moment_data1\n",
    "        Err_mat[1, :] = mm_simulated2 - moment_data2\n",
    "        Err_mat[2, :] = mm_simulated3 - moment_data3\n",
    "        Err_mat[3, :] = mm_simulated4 - moment_data4\n",
    "        Err_mat[4, :] = mm_simulated5 - moment_data5\n",
    "        Err_mat[5, :] = mm_simulated6 - moment_data6\n",
    "    else:\n",
    "        Err_mat[0, :] = (mm_simulated1 - moment_data1) / moment_data1\n",
    "        Err_mat[1, :] = (mm_simulated2 - moment_data2) / moment_data2\n",
    "        Err_mat[2, :] = (mm_simulated3 - moment_data3) / moment_data3\n",
    "        Err_mat[3, :] = (mm_simulated4 - moment_data4) / moment_data4\n",
    "        Err_mat[4, :] = (mm_simulated5 - moment_data5) / moment_data5\n",
    "        Err_mat[5, :] = (mm_simulated6 - moment_data6) / moment_data6\n",
    "        \n",
    "    return Err_mat"
   ]
  },
  {
   "cell_type": "code",
   "execution_count": 121,
   "metadata": {},
   "outputs": [
    {
     "name": "stdout",
     "output_type": "stream",
     "text": [
      "[[ 5.53685636e-07 -5.49746904e-07 -1.30413501e-06 -1.47790510e-09\n",
      "   2.45579618e-07 -2.31147438e-07]\n",
      " [-5.49746904e-07  5.45836191e-07  1.29485783e-06  1.46739179e-09\n",
      "  -2.43832648e-07  2.29503134e-07]\n",
      " [-1.30413501e-06  1.29485783e-06  3.07172159e-06  3.48101460e-09\n",
      "  -5.78431074e-07  5.44437939e-07]\n",
      " [-1.47790510e-09  1.46739179e-09  3.48101460e-09  3.94484406e-12\n",
      "  -6.55504400e-10  6.16981833e-10]\n",
      " [ 2.45579618e-07 -2.43832648e-07 -5.78431074e-07 -6.55504400e-10\n",
      "   1.08923448e-07 -1.02522254e-07]\n",
      " [-2.31147438e-07  2.29503134e-07  5.44437939e-07  6.16981833e-10\n",
      "  -1.02522254e-07  9.64972446e-08]]\n",
      "[[-1.75341996e+20  4.11593158e+20 -2.39340238e+20 -2.71225316e+23\n",
      "  -2.47632818e+21 -9.45348469e+20]\n",
      " [ 4.10658167e+20 -5.77981766e+20  4.71181206e+20  2.55673829e+23\n",
      "   2.46988660e+21  6.89289321e+20]\n",
      " [-2.38487100e+20  4.70454827e+20 -2.93165236e+20 -1.71051199e+23\n",
      "  -1.73559147e+21 -7.86421729e+20]\n",
      " [-2.72485362e+23  2.60077905e+23 -1.74090814e+23 -1.95241917e+26\n",
      "  -1.35174616e+24 -4.76849797e+23]\n",
      " [-2.47886825e+21  2.48905382e+21 -1.75110737e+21 -1.33787979e+24\n",
      "  -1.35479291e+22 -7.81760273e+21]\n",
      " [-9.42580360e+20  6.87832499e+20 -7.87242941e+20 -4.65774508e+23\n",
      "  -7.76481452e+21 -4.72367586e+21]]\n"
     ]
    }
   ],
   "source": [
    "Err_mat = get_Err_mat(simulations, alpha_smm, 0.99, rho_smm, mu_smm, sigma_smm, False)\n",
    "VCV = (1 / SS) * (Err_mat @ Err_mat.T)\n",
    "print(VCV)\n",
    "W_hat = lin.inv(VCV)\n",
    "print(W_hat)"
   ]
  },
  {
   "cell_type": "code",
   "execution_count": 122,
   "metadata": {},
   "outputs": [
    {
     "name": "stderr",
     "output_type": "stream",
     "text": [
      "C:\\Anaconda3\\lib\\site-packages\\ipykernel_launcher.py:16: RuntimeWarning: overflow encountered in multiply\n",
      "  app.launch_new_instance()\n",
      "C:\\Anaconda3\\lib\\site-packages\\ipykernel_launcher.py:21: RuntimeWarning: overflow encountered in multiply\n",
      "C:\\Anaconda3\\lib\\site-packages\\ipykernel_launcher.py:23: RuntimeWarning: overflow encountered in multiply\n",
      "C:\\Anaconda3\\lib\\site-packages\\ipykernel_launcher.py:23: RuntimeWarning: invalid value encountered in multiply\n",
      "C:\\Anaconda3\\lib\\site-packages\\ipykernel_launcher.py:23: RuntimeWarning: invalid value encountered in subtract\n",
      "C:\\Anaconda3\\lib\\site-packages\\ipykernel_launcher.py:24: RuntimeWarning: overflow encountered in multiply\n"
     ]
    },
    {
     "name": "stdout",
     "output_type": "stream",
     "text": [
      "alpha SMM2 =  0.42103423036100984\n",
      "rho SMM2 =  0.9174627639046471\n",
      "mu SMM2 =  9.92760014039361\n",
      "sigma SMM2 =  0.09004838136874012\n"
     ]
    }
   ],
   "source": [
    "def criterion2_SMM(params, *args):\n",
    "    alpha, rho, mu, sigma = params\n",
    "    beta, simulations, W_hat = args\n",
    "    err = err_vec(alpha, beta, rho, mu, sigma, simulations)\n",
    "    return err @ W_hat @ err.T\n",
    "\n",
    "params_init2 = np.array([alpha_smm, rho_smm, mu_smm, sigma_smm])\n",
    "bounds2 = ((0.01,0.99),(-0.99,0.99),(5,14),(0.01,1.1))\n",
    "W_hat = lin.inv(VCV)\n",
    "smm_args2 = (beta,simulations,W_hat)\n",
    "\n",
    "results2 = opt.minimize(criterion2_SMM, params_init2, args = (smm_args2), method = 'L-BFGS-B', bounds = bounds2)\n",
    "alpha_smm2, rho_smm2, mu_smm2, sigma_smm2 = results2.x\n",
    "\n",
    "#I don't know what is the problem\n",
    "\n",
    "print('alpha SMM2 = ', alpha_smm2)\n",
    "print('rho SMM2 = ', rho_smm2)\n",
    "print('mu SMM2 = ', mu_smm2)\n",
    "print('sigma SMM2 = ', sigma_smm2)"
   ]
  },
  {
   "cell_type": "code",
   "execution_count": 120,
   "metadata": {},
   "outputs": [
    {
     "name": "stdout",
     "output_type": "stream",
     "text": [
      "[[ 2.70593112e+01  8.39184781e-01  1.71643424e+00  1.54452317e+00]\n",
      " [ 3.10889132e+01  8.37941273e-01  1.71389082e+00  1.54223448e+00]\n",
      " [-1.69462513e+00  0.00000000e+00  0.00000000e+00  0.00000000e+00]\n",
      " [ 6.13259563e+01  1.19087518e+01  3.45979140e+00  2.71079197e+01]\n",
      " [ 1.41334352e-01  4.23812633e-01  7.97041479e-04 -8.41316085e-02]\n",
      " [ 2.42068188e-01  4.29312671e-01  6.29637902e-03 -8.10755398e-02]]\n",
      "[[-1.75341996e+20  4.11593158e+20 -2.39340238e+20 -2.71225316e+23\n",
      "  -2.47632818e+21 -9.45348469e+20]\n",
      " [ 4.10658167e+20 -5.77981766e+20  4.71181206e+20  2.55673829e+23\n",
      "   2.46988660e+21  6.89289321e+20]\n",
      " [-2.38487100e+20  4.70454827e+20 -2.93165236e+20 -1.71051199e+23\n",
      "  -1.73559147e+21 -7.86421729e+20]\n",
      " [-2.72485362e+23  2.60077905e+23 -1.74090814e+23 -1.95241917e+26\n",
      "  -1.35174616e+24 -4.76849797e+23]\n",
      " [-2.47886825e+21  2.48905382e+21 -1.75110737e+21 -1.33787979e+24\n",
      "  -1.35479291e+22 -7.81760273e+21]\n",
      " [-9.42580360e+20  6.87832499e+20 -7.87242941e+20 -4.65774508e+23\n",
      "  -7.76481452e+21 -4.72367586e+21]]\n",
      "[[-3.68213108e-26  1.29182921e-26  1.56414963e-25  5.76564318e-26]\n",
      " [ 1.40180605e-26 -2.63525588e-25 -3.77306388e-25  1.32257774e-25]\n",
      " [ 1.50768558e-25 -3.54931185e-25  5.58761435e-24 -8.98291502e-25]\n",
      " [ 5.78933094e-26  1.31890216e-25 -9.01223762e-25 -7.38978607e-26]]\n",
      "Std. err. alpha_2= nan\n",
      "Std. err. rho_2= nan\n",
      "Std. err. mu_2= 2.363813519340191e-12\n",
      "Std. err. sigma_2= nan\n"
     ]
    },
    {
     "name": "stderr",
     "output_type": "stream",
     "text": [
      "C:\\Anaconda3\\lib\\site-packages\\ipykernel_launcher.py:9: RuntimeWarning: invalid value encountered in sqrt\n",
      "  if __name__ == '__main__':\n",
      "C:\\Anaconda3\\lib\\site-packages\\ipykernel_launcher.py:10: RuntimeWarning: invalid value encountered in sqrt\n",
      "  # Remove the CWD from sys.path while we load stuff.\n",
      "C:\\Anaconda3\\lib\\site-packages\\ipykernel_launcher.py:12: RuntimeWarning: invalid value encountered in sqrt\n",
      "  if sys.path[0] == '':\n"
     ]
    }
   ],
   "source": [
    "#Standard errors\n",
    "SS = simulations.shape[1]\n",
    "d_err2_2 = Jac_err2(data, simulations, alpha_smm, rho_smm, mu_smm, sigma_smm, False)\n",
    "print(d_err2_2)\n",
    "W = W_hat\n",
    "print(W)\n",
    "SigHat2_2 = (1 / SS) * lin.inv(d_err2_2.T @ W_hat @ d_err2_2)\n",
    "\n",
    "#I don't know what is the problem\n",
    "\n",
    "print(SigHat2_2)\n",
    "print('Std. err. alpha_2=', np.sqrt(SigHat2_2[0, 0]))\n",
    "print('Std. err. rho_2=', np.sqrt(SigHat2_2[1, 1]))\n",
    "print('Std. err. mu_2=', np.sqrt(SigHat2_2[2, 2]))\n",
    "print('Std. err. sigma_2=', np.sqrt(SigHat2_2[3, 3]))"
   ]
  },
  {
   "cell_type": "code",
   "execution_count": null,
   "metadata": {},
   "outputs": [],
   "source": []
  }
 ],
 "metadata": {
  "kernelspec": {
   "display_name": "Python 3",
   "language": "python",
   "name": "python3"
  },
  "language_info": {
   "codemirror_mode": {
    "name": "ipython",
    "version": 3
   },
   "file_extension": ".py",
   "mimetype": "text/x-python",
   "name": "python",
   "nbconvert_exporter": "python",
   "pygments_lexer": "ipython3",
   "version": "3.7.1"
  }
 },
 "nbformat": 4,
 "nbformat_minor": 2
}
